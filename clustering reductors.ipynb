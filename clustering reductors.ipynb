{
 "cells": [
  {
   "cell_type": "code",
   "execution_count": 151,
   "metadata": {},
   "outputs": [
    {
     "data": {
      "text/html": [
       "<div>\n",
       "<style scoped>\n",
       "    .dataframe tbody tr th:only-of-type {\n",
       "        vertical-align: middle;\n",
       "    }\n",
       "\n",
       "    .dataframe tbody tr th {\n",
       "        vertical-align: top;\n",
       "    }\n",
       "\n",
       "    .dataframe thead th {\n",
       "        text-align: right;\n",
       "    }\n",
       "</style>\n",
       "<table border=\"1\" class=\"dataframe\">\n",
       "  <thead>\n",
       "    <tr style=\"text-align: right;\">\n",
       "      <th></th>\n",
       "      <th>Unnamed: 0</th>\n",
       "      <th>Reductor</th>\n",
       "      <th>output_speed</th>\n",
       "      <th>functional</th>\n",
       "      <th>mass</th>\n",
       "      <th>motor</th>\n",
       "      <th>ratio</th>\n",
       "    </tr>\n",
       "  </thead>\n",
       "  <tbody>\n",
       "    <tr>\n",
       "      <th>0</th>\n",
       "      <td>0</td>\n",
       "      <td>1</td>\n",
       "      <td>612.000000</td>\n",
       "      <td>0.520722</td>\n",
       "      <td>5.207216</td>\n",
       "      <td>Engine 1</td>\n",
       "      <td>5.100000</td>\n",
       "    </tr>\n",
       "    <tr>\n",
       "      <th>1</th>\n",
       "      <td>1</td>\n",
       "      <td>2</td>\n",
       "      <td>573.750000</td>\n",
       "      <td>0.711073</td>\n",
       "      <td>7.110730</td>\n",
       "      <td>Engine 1</td>\n",
       "      <td>4.781250</td>\n",
       "    </tr>\n",
       "    <tr>\n",
       "      <th>2</th>\n",
       "      <td>2</td>\n",
       "      <td>3</td>\n",
       "      <td>570.000000</td>\n",
       "      <td>0.497380</td>\n",
       "      <td>4.973798</td>\n",
       "      <td>Engine 1</td>\n",
       "      <td>4.750000</td>\n",
       "    </tr>\n",
       "    <tr>\n",
       "      <th>3</th>\n",
       "      <td>3</td>\n",
       "      <td>4</td>\n",
       "      <td>618.750000</td>\n",
       "      <td>0.650535</td>\n",
       "      <td>6.505351</td>\n",
       "      <td>Engine 1</td>\n",
       "      <td>5.156250</td>\n",
       "    </tr>\n",
       "    <tr>\n",
       "      <th>4</th>\n",
       "      <td>4</td>\n",
       "      <td>5</td>\n",
       "      <td>623.333333</td>\n",
       "      <td>0.701134</td>\n",
       "      <td>7.011342</td>\n",
       "      <td>Engine 1</td>\n",
       "      <td>5.194444</td>\n",
       "    </tr>\n",
       "  </tbody>\n",
       "</table>\n",
       "</div>"
      ],
      "text/plain": [
       "   Unnamed: 0  Reductor  output_speed  functional      mass     motor  \\\n",
       "0           0         1    612.000000    0.520722  5.207216  Engine 1   \n",
       "1           1         2    573.750000    0.711073  7.110730  Engine 1   \n",
       "2           2         3    570.000000    0.497380  4.973798  Engine 1   \n",
       "3           3         4    618.750000    0.650535  6.505351  Engine 1   \n",
       "4           4         5    623.333333    0.701134  7.011342  Engine 1   \n",
       "\n",
       "      ratio  \n",
       "0  5.100000  \n",
       "1  4.781250  \n",
       "2  4.750000  \n",
       "3  5.156250  \n",
       "4  5.194444  "
      ]
     },
     "execution_count": 151,
     "metadata": {},
     "output_type": "execute_result"
    }
   ],
   "source": [
    "import pandas as pd\n",
    "from sklearn.cluster import KMeans\n",
    "from sklearn.preprocessing import MinMaxScaler\n",
    "from matplotlib import pyplot as plt\n",
    "%matplotlib inline\n",
    "\n",
    "df = pd.read_csv(\"dataframe_reductor.csv\")\n",
    "df.head()"
   ]
  },
  {
   "cell_type": "code",
   "execution_count": 152,
   "metadata": {},
   "outputs": [
    {
     "data": {
      "text/plain": [
       "<matplotlib.collections.PathCollection at 0x1721e985e80>"
      ]
     },
     "execution_count": 152,
     "metadata": {},
     "output_type": "execute_result"
    },
    {
     "data": {
      "image/png": "[encoded data removed]",
      "text/plain": [
       "<Figure size 432x288 with 1 Axes>"
      ]
     },
     "metadata": {
      "needs_background": "light"
     },
     "output_type": "display_data"
    }
   ],
   "source": [
    "plt.scatter(df['mass'],df['ratio'])"
   ]
  },
  {
   "cell_type": "code",
   "execution_count": 134,
   "metadata": {},
   "outputs": [],
   "source": [
    "#scaler = MinMaxScaler()\n",
    "#scaler.fit(df[['output_speed']])\n",
    "#df['output_speed'] = scaler.transform(df[['output_speed']])\n",
    "#df.head()"
   ]
  },
  {
   "cell_type": "code",
   "execution_count": 135,
   "metadata": {},
   "outputs": [],
   "source": [
    "#scaler = MinMaxScaler()\n",
    "#scaler.fit(df[['functional']])\n",
    "#df['functional'] = scaler.transform(df[['functional']])\n",
    "#df.head()"
   ]
  },
  {
   "cell_type": "code",
   "execution_count": 161,
   "metadata": {},
   "outputs": [],
   "source": [
    "k_rng=range(1,20)\n",
    "sse =[]\n",
    "for k in k_rng:\n",
    "    km = KMeans(n_clusters = k)\n",
    "    km.fit(df[['mass', 'ratio', 'functional']])\n",
    "    sse.append(km.inertia_)"
   ]
  },
  {
   "cell_type": "code",
   "execution_count": 162,
   "metadata": {},
   "outputs": [
    {
     "data": {
      "text/plain": [
       "[453.37283833067,\n",
       " 192.27546602643812,\n",
       " 124.4724373470221,\n",
       " 98.40216552221946,\n",
       " 77.968621265604,\n",
       " 61.639003483541245,\n",
       " 51.31107742721192,\n",
       " 42.63838904631586,\n",
       " 37.57306630941207,\n",
       " 31.772871337531964,\n",
       " 28.184580635148862,\n",
       " 24.35131705070462,\n",
       " 21.345327776613953,\n",
       " 19.628980369755404,\n",
       " 18.282430910242137,\n",
       " 16.63555483898796,\n",
       " 15.40326262558194,\n",
       " 14.622808902318894,\n",
       " 13.40986517316801]"
      ]
     },
     "execution_count": 162,
     "metadata": {},
     "output_type": "execute_result"
    }
   ],
   "source": [
    "sse"
   ]
  },
  {
   "cell_type": "code",
   "execution_count": 163,
   "metadata": {},
   "outputs": [
    {
     "data": {
      "text/plain": [
       "[<matplotlib.lines.Line2D at 0x1721eab4970>]"
      ]
     },
     "execution_count": 163,
     "metadata": {},
     "output_type": "execute_result"
    },
    {
     "data": {
      "image/png": "[encoded data removed]",
      "text/plain": [
       "<Figure size 432x288 with 1 Axes>"
      ]
     },
     "metadata": {
      "needs_background": "light"
     },
     "output_type": "display_data"
    }
   ],
   "source": [
    "plt.xlabel('K')\n",
    "plt.ylabel('sum of square error')\n",
    "plt.plot(k_rng, sse)"
   ]
  },
  {
   "cell_type": "code",
   "execution_count": 164,
   "metadata": {},
   "outputs": [
    {
     "data": {
      "text/plain": [
       "array([1, 0, 1, 0, 0, 0, 0, 2, 1, 1, 1, 0, 1, 1, 1, 1, 1, 1, 1, 0, 1, 1,\n",
       "       1, 1, 1, 0, 1, 1, 2, 1, 1, 0, 2, 0, 1, 2, 0, 0, 1, 1, 1, 0, 1, 0,\n",
       "       1, 1, 0, 1, 1, 1, 1, 1, 1, 1, 0, 0, 2, 1, 0, 0, 0, 1, 1, 2, 2, 0,\n",
       "       0, 2, 2, 1, 0, 0, 1, 0, 1, 1, 0, 1, 1, 2, 1, 1, 1, 0, 1, 0, 1, 2,\n",
       "       2, 1, 1, 1, 2, 1, 0, 1, 1, 1, 0, 0, 1, 1, 1, 1, 1, 1, 1, 1, 1, 2,\n",
       "       0, 1, 1, 1, 1, 1, 1, 0, 0, 1, 1, 0, 1, 1, 2, 0, 0, 2, 1, 1, 2, 2,\n",
       "       0, 0, 1, 0, 1, 0, 1, 1, 1, 0, 1, 0, 1, 2, 0, 0, 1, 1, 0, 0, 1, 2,\n",
       "       1, 0, 0, 1, 0, 1, 0, 1, 1, 1, 0, 1, 1, 0, 1, 1, 1, 0, 1, 0, 1, 0,\n",
       "       1, 1, 2, 1, 0, 0, 2, 0, 2, 0, 0, 1, 1, 0, 0, 0, 1, 1, 2, 0, 1, 0,\n",
       "       1, 0, 0, 0, 2, 1, 0, 1, 1, 1, 1, 1, 1, 0])"
      ]
     },
     "execution_count": 164,
     "metadata": {},
     "output_type": "execute_result"
    }
   ],
   "source": [
    "km=KMeans(n_clusters=3)\n",
    "y_predicted = km.fit_predict(df[['mass','ratio', 'functional']])\n",
    "y_predicted"
   ]
  },
  {
   "cell_type": "code",
   "execution_count": 165,
   "metadata": {},
   "outputs": [
    {
     "data": {
      "text/html": [
       "<div>\n",
       "<style scoped>\n",
       "    .dataframe tbody tr th:only-of-type {\n",
       "        vertical-align: middle;\n",
       "    }\n",
       "\n",
       "    .dataframe tbody tr th {\n",
       "        vertical-align: top;\n",
       "    }\n",
       "\n",
       "    .dataframe thead th {\n",
       "        text-align: right;\n",
       "    }\n",
       "</style>\n",
       "<table border=\"1\" class=\"dataframe\">\n",
       "  <thead>\n",
       "    <tr style=\"text-align: right;\">\n",
       "      <th></th>\n",
       "      <th>Unnamed: 0</th>\n",
       "      <th>Reductor</th>\n",
       "      <th>output_speed</th>\n",
       "      <th>functional</th>\n",
       "      <th>mass</th>\n",
       "      <th>motor</th>\n",
       "      <th>ratio</th>\n",
       "      <th>cluster</th>\n",
       "    </tr>\n",
       "  </thead>\n",
       "  <tbody>\n",
       "    <tr>\n",
       "      <th>0</th>\n",
       "      <td>0</td>\n",
       "      <td>1</td>\n",
       "      <td>612.000000</td>\n",
       "      <td>0.520722</td>\n",
       "      <td>5.207216</td>\n",
       "      <td>Engine 1</td>\n",
       "      <td>5.100000</td>\n",
       "      <td>1</td>\n",
       "    </tr>\n",
       "    <tr>\n",
       "      <th>1</th>\n",
       "      <td>1</td>\n",
       "      <td>2</td>\n",
       "      <td>573.750000</td>\n",
       "      <td>0.711073</td>\n",
       "      <td>7.110730</td>\n",
       "      <td>Engine 1</td>\n",
       "      <td>4.781250</td>\n",
       "      <td>0</td>\n",
       "    </tr>\n",
       "    <tr>\n",
       "      <th>2</th>\n",
       "      <td>2</td>\n",
       "      <td>3</td>\n",
       "      <td>570.000000</td>\n",
       "      <td>0.497380</td>\n",
       "      <td>4.973798</td>\n",
       "      <td>Engine 1</td>\n",
       "      <td>4.750000</td>\n",
       "      <td>1</td>\n",
       "    </tr>\n",
       "    <tr>\n",
       "      <th>3</th>\n",
       "      <td>3</td>\n",
       "      <td>4</td>\n",
       "      <td>618.750000</td>\n",
       "      <td>0.650535</td>\n",
       "      <td>6.505351</td>\n",
       "      <td>Engine 1</td>\n",
       "      <td>5.156250</td>\n",
       "      <td>0</td>\n",
       "    </tr>\n",
       "    <tr>\n",
       "      <th>4</th>\n",
       "      <td>4</td>\n",
       "      <td>5</td>\n",
       "      <td>623.333333</td>\n",
       "      <td>0.701134</td>\n",
       "      <td>7.011342</td>\n",
       "      <td>Engine 1</td>\n",
       "      <td>5.194444</td>\n",
       "      <td>0</td>\n",
       "    </tr>\n",
       "    <tr>\n",
       "      <th>...</th>\n",
       "      <td>...</td>\n",
       "      <td>...</td>\n",
       "      <td>...</td>\n",
       "      <td>...</td>\n",
       "      <td>...</td>\n",
       "      <td>...</td>\n",
       "      <td>...</td>\n",
       "      <td>...</td>\n",
       "    </tr>\n",
       "    <tr>\n",
       "      <th>207</th>\n",
       "      <td>207</td>\n",
       "      <td>208</td>\n",
       "      <td>601.666667</td>\n",
       "      <td>0.505529</td>\n",
       "      <td>5.055295</td>\n",
       "      <td>Engine 3</td>\n",
       "      <td>5.469697</td>\n",
       "      <td>1</td>\n",
       "    </tr>\n",
       "    <tr>\n",
       "      <th>208</th>\n",
       "      <td>208</td>\n",
       "      <td>209</td>\n",
       "      <td>653.125000</td>\n",
       "      <td>0.531984</td>\n",
       "      <td>5.319842</td>\n",
       "      <td>Engine 3</td>\n",
       "      <td>5.937500</td>\n",
       "      <td>1</td>\n",
       "    </tr>\n",
       "    <tr>\n",
       "      <th>209</th>\n",
       "      <td>209</td>\n",
       "      <td>210</td>\n",
       "      <td>610.923077</td>\n",
       "      <td>0.535231</td>\n",
       "      <td>5.352311</td>\n",
       "      <td>Engine 3</td>\n",
       "      <td>5.553846</td>\n",
       "      <td>1</td>\n",
       "    </tr>\n",
       "    <tr>\n",
       "      <th>210</th>\n",
       "      <td>210</td>\n",
       "      <td>211</td>\n",
       "      <td>559.821429</td>\n",
       "      <td>0.547006</td>\n",
       "      <td>5.470062</td>\n",
       "      <td>Engine 3</td>\n",
       "      <td>5.089286</td>\n",
       "      <td>1</td>\n",
       "    </tr>\n",
       "    <tr>\n",
       "      <th>211</th>\n",
       "      <td>211</td>\n",
       "      <td>212</td>\n",
       "      <td>620.468750</td>\n",
       "      <td>0.623891</td>\n",
       "      <td>6.238911</td>\n",
       "      <td>Engine 3</td>\n",
       "      <td>5.640625</td>\n",
       "      <td>0</td>\n",
       "    </tr>\n",
       "  </tbody>\n",
       "</table>\n",
       "<p>212 rows × 8 columns</p>\n",
       "</div>"
      ],
      "text/plain": [
       "     Unnamed: 0  Reductor  output_speed  functional      mass     motor  \\\n",
       "0             0         1    612.000000    0.520722  5.207216  Engine 1   \n",
       "1             1         2    573.750000    0.711073  7.110730  Engine 1   \n",
       "2             2         3    570.000000    0.497380  4.973798  Engine 1   \n",
       "3             3         4    618.750000    0.650535  6.505351  Engine 1   \n",
       "4             4         5    623.333333    0.701134  7.011342  Engine 1   \n",
       "..          ...       ...           ...         ...       ...       ...   \n",
       "207         207       208    601.666667    0.505529  5.055295  Engine 3   \n",
       "208         208       209    653.125000    0.531984  5.319842  Engine 3   \n",
       "209         209       210    610.923077    0.535231  5.352311  Engine 3   \n",
       "210         210       211    559.821429    0.547006  5.470062  Engine 3   \n",
       "211         211       212    620.468750    0.623891  6.238911  Engine 3   \n",
       "\n",
       "        ratio  cluster  \n",
       "0    5.100000        1  \n",
       "1    4.781250        0  \n",
       "2    4.750000        1  \n",
       "3    5.156250        0  \n",
       "4    5.194444        0  \n",
       "..        ...      ...  \n",
       "207  5.469697        1  \n",
       "208  5.937500        1  \n",
       "209  5.553846        1  \n",
       "210  5.089286        1  \n",
       "211  5.640625        0  \n",
       "\n",
       "[212 rows x 8 columns]"
      ]
     },
     "execution_count": 165,
     "metadata": {},
     "output_type": "execute_result"
    }
   ],
   "source": [
    "df['cluster']=y_predicted\n",
    "df"
   ]
  },
  {
   "cell_type": "code",
   "execution_count": 166,
   "metadata": {
    "scrolled": true
   },
   "outputs": [
    {
     "data": {
      "text/plain": [
       "<matplotlib.legend.Legend at 0x1721fae7880>"
      ]
     },
     "execution_count": 166,
     "metadata": {},
     "output_type": "execute_result"
    },
    {
     "data": {
      "image/png": "[encoded data removed]",
      "text/plain": [
       "<Figure size 432x288 with 1 Axes>"
      ]
     },
     "metadata": {
      "needs_background": "light"
     },
     "output_type": "display_data"
    }
   ],
   "source": [
    "df1=df[df.cluster==0]\n",
    "df2=df[df.cluster==1]\n",
    "df3=df[df.cluster==2]\n",
    "plt.scatter(df1.mass, df1['ratio'], color = 'green')\n",
    "plt.scatter(df2.mass, df2.ratio, color = 'red')\n",
    "plt.scatter(df3.mass, df3.ratio, color = 'blue')\n",
    "plt.scatter(km.cluster_centers_[:,0], km.cluster_centers_[:,1],color = 'purple', marker = '+', label='centroid')\n",
    "plt.legend()"
   ]
  },
  {
   "cell_type": "code",
   "execution_count": 127,
   "metadata": {},
   "outputs": [
    {
     "data": {
      "text/plain": [
       "12.02420880275439"
      ]
     },
     "execution_count": 127,
     "metadata": {},
     "output_type": "execute_result"
    }
   ],
   "source": [
    "df['mass'].max()"
   ]
  }
 ],
 "metadata": {
  "kernelspec": {
   "display_name": "Python 3",
   "language": "python",
   "name": "python3"
  },
  "language_info": {
   "codemirror_mode": {
    "name": "ipython",
    "version": 3
   },
   "file_extension": ".py",
   "mimetype": "text/x-python",
   "name": "python",
   "nbconvert_exporter": "python",
   "pygments_lexer": "ipython3",
   "version": "3.8.3"
  }
 },
 "nbformat": 4,
 "nbformat_minor": 4
}
